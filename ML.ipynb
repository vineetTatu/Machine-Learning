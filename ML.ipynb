{
 "cells": [
  {
   "cell_type": "raw",
   "id": "a93d3372-ca66-4819-869b-a2c609e42a36",
   "metadata": {},
   "source": [
    "Quesstion1:\n",
    "Answer: Total number of multipication = k*m\n",
    "        Total number of addition = (k-1)*m*n"
   ]
  },
  {
   "cell_type": "raw",
   "id": "c44f3a5c-f8d1-458e-adda-fad6f5ffdc37",
   "metadata": {},
   "source": [
    "Question 2:"
   ]
  },
  {
   "cell_type": "code",
   "execution_count": 32,
   "id": "b8a299bb-f7ca-4b49-8507-f34e6568909b",
   "metadata": {},
   "outputs": [
    {
     "name": "stdout",
     "output_type": "stream",
     "text": [
      "[[[24 30]]\n",
      "\n",
      " [[54 69]]]\n"
     ]
    }
   ],
   "source": [
    "import numpy as np\n",
    "x= np.array([[1,2,3],[4,5,6]])\n",
    "y= np.array([[[1,2],[4,5],[5,6]]])\n",
    "print(np.dot(x,y))\n"
   ]
  },
  {
   "cell_type": "raw",
   "id": "2ba14077-4dc7-4574-ac34-67ed88543675",
   "metadata": {},
   "source": [
    "Question4\n",
    "Gradient with respect to x: 2*x*y + y**3*cos(x)\n",
    "Gradient with respect to y: x**2 + 3*y**2*sin(x)"
   ]
  },
  {
   "cell_type": "raw",
   "id": "1846ac23-8f77-450b-8e2d-0cfa7935caeb",
   "metadata": {},
   "source": [
    "Question 6: "
   ]
  },
  {
   "cell_type": "code",
   "execution_count": 4,
   "id": "68e6c44d-a157-425f-b159-f80d3b0492c7",
   "metadata": {},
   "outputs": [
    {
     "name": "stdout",
     "output_type": "stream",
     "text": [
      "Gradient with respect to x: 2*x*y + y**3*cos(x)\n",
      "Gradient with respect to y: x**2 + 3*y**2*sin(x)\n"
     ]
    }
   ],
   "source": [
    "import sympy as sp\n",
    "\n",
    "x = sp.symbols('x')\n",
    "y = sp.symbols('y')\n",
    "\n",
    "\n",
    "f = x*x*y + y**3 * sp.sin(x)\n",
    "\n",
    "grad_x = sp.diff(f, x)\n",
    "grad_y = sp.diff(f, y)\n",
    "\n",
    "print(\"Gradient with respect to x for the following function:\", grad_x)\n",
    "print(\"Gradient with respect to y for the following function:\", grad_y)\n"
   ]
  },
  {
   "cell_type": "raw",
   "id": "e9421c6d-6e8e-4571-b3d3-3926e6d7768d",
   "metadata": {},
   "source": [
    "Question 9"
   ]
  },
  {
   "cell_type": "code",
   "execution_count": 19,
   "id": "ffedf808-cef9-4bc6-85c2-6e19649e6a27",
   "metadata": {},
   "outputs": [
    {
     "data": {
      "image/png": "[encoded data removed]",
      "text/plain": [
       "<Figure size 300x300 with 1 Axes>"
      ]
     },
     "metadata": {},
     "output_type": "display_data"
    }
   ],
   "source": [
    "import numpy as np\n",
    "import matplotlib.pyplot as plt\n",
    "\n",
    "x_axis = np.arange(0.5, 100.5, 0.5)\n",
    "\n",
    "y_axis = x_axis\n",
    "\n",
    "\n",
    "# Plotting the function\n",
    "plt.figure(figsize=(3, 3))\n",
    "plt.plot(x_axis, y_axis, label=r'$y = x$')\n",
    "plt.xlabel('x')\n",
    "plt.ylabel('y')\n",
    "plt.legend()\n",
    "plt.show()\n"
   ]
  },
  {
   "cell_type": "raw",
   "id": "7a83104e-7fe8-4da7-a75c-45289458f104",
   "metadata": {},
   "source": [
    "Question 10"
   ]
  },
  {
   "cell_type": "code",
   "execution_count": 29,
   "id": "9f9e2fe7-d61f-4283-9103-5e2542a2a1b7",
   "metadata": {},
   "outputs": [
    {
     "name": "stdout",
     "output_type": "stream",
     "text": [
      "           a         b         c         d         e\n",
      "0   1.077328  1.374790  1.871249  1.037079  1.915144\n",
      "1   1.317679  1.651122  1.634474  1.002045  1.165414\n",
      "2   1.400605  1.818867  1.754047  1.096260  1.761997\n",
      "3   1.005653  1.744005  1.950248  1.197530  1.568010\n",
      "4   1.298965  1.585902  1.632882  1.608616  1.101920\n",
      "5   1.670117  1.029441  1.153429  1.733727  1.075691\n",
      "6   1.921233  1.698693  1.364833  1.793962  1.715313\n",
      "7   1.994082  1.533125  1.658939  1.115901  1.113480\n",
      "8   1.625669  1.284555  1.861842  1.668252  1.490545\n",
      "9   1.721075  1.698269  1.228608  1.182185  1.828657\n",
      "10  1.852521  1.381116  1.411700  1.825526  1.978876\n",
      "11  1.189455  1.282557  1.320847  1.602801  1.765117\n",
      "12  1.077264  1.761240  1.153108  1.094398  1.432557\n",
      "13  1.853310  1.779861  1.614616  1.412241  1.072562\n",
      "14  1.048668  1.795052  1.287397  1.614379  1.241367\n",
      "15  1.968097  1.025495  1.663051  1.729116  1.017065\n",
      "16  1.695203  1.263305  1.035547  1.845805  1.725162\n",
      "17  1.793162  1.478962  1.349024  1.555405  1.171026\n",
      "18  1.152611  1.180925  1.786952  1.152444  1.136198\n",
      "19  1.153713  1.539900  1.316934  1.719366  1.534685\n",
      "Column with the highest standard deviation: a\n",
      "Row with the lowest mean: 18\n"
     ]
    }
   ],
   "source": [
    "import numpy as np\n",
    "import pandas as pd\n",
    "\n",
    "A = np.random.uniform(1, 2, size=(20, 5))\n",
    "Dataframe = pd.DataFrame(A, columns=['a', 'b', 'c', 'd', 'e'])\n",
    "print(Dataframe)\n",
    "\n",
    "max_sdeviation = Dataframe.std().idxmax()\n",
    "print(f\"Column with the highest standard deviation: {max_sdeviation}\")\n",
    "\n",
    "\n",
    "min_mean = Dataframe.mean(axis=1).idxmin()\n",
    "print(f\"Row with the lowest mean: {min_mean}\")\n",
    "\n"
   ]
  },
  {
   "cell_type": "code",
   "execution_count": null,
   "id": "46672d95-f885-49db-abba-923d671cd410",
   "metadata": {},
   "outputs": [],
   "source": []
  }
 ],
 "metadata": {
  "kernelspec": {
   "display_name": "Python 3 (ipykernel)",
   "language": "python",
   "name": "python3"
  },
  "language_info": {
   "codemirror_mode": {
    "name": "ipython",
    "version": 3
   },
   "file_extension": ".py",
   "mimetype": "text/x-python",
   "name": "python",
   "nbconvert_exporter": "python",
   "pygments_lexer": "ipython3",
   "version": "3.12.1"
  }
 },
 "nbformat": 4,
 "nbformat_minor": 5
}
